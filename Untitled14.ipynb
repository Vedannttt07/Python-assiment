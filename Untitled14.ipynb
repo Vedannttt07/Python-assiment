{
 "cells": [
  {
   "cell_type": "code",
   "execution_count": 1,
   "id": "e0029fca-9e72-4c50-95a2-527aef59cfff",
   "metadata": {},
   "outputs": [
    {
     "name": "stdout",
     "output_type": "stream",
     "text": [
      "[1, 3, 5, 7, 9, 11, 13, 15, 17, 19, 21, 23, 25]\n"
     ]
    }
   ],
   "source": [
    "def find_odd_numbers():\n",
    "    odd_numbers = []\n",
    "    for number in range(1, 26):\n",
    "        if number % 2 != 0:\n",
    "            odd_numbers.append(number)\n",
    "    return odd_numbers\n",
    "result = find_odd_numbers()\n",
    "print(result)"
   ]
  },
  {
   "cell_type": "code",
   "execution_count": null,
   "id": "1bdaa60d-dab4-49e6-b820-58efc5b1f027",
   "metadata": {},
   "outputs": [],
   "source": [
    "n Python, *args and **kwargs are used in functions to handle a variable number of arguments. \n",
    "They allow you to pass an arbitrary number of positional and keyword arguments to a function. "
   ]
  },
  {
   "cell_type": "code",
   "execution_count": 2,
   "id": "e49efa26-a595-4e97-b28a-b6f1c49ccb5f",
   "metadata": {},
   "outputs": [
    {
     "name": "stdout",
     "output_type": "stream",
     "text": [
      "Sum of numbers: 15\n",
      "name: Alice\n",
      "age: 30\n",
      "city: Wonderland\n"
     ]
    }
   ],
   "source": [
    "def sum_numbers(*args):\n",
    "    result = 0\n",
    "    for num in args:\n",
    "        result += num\n",
    "    return result\n",
    "def display_info(**kwargs):\n",
    "    for key, value in kwargs.items():\n",
    "        print(f\"{key}: {value}\")\n",
    "result = sum_numbers(1, 2, 3, 4, 5)\n",
    "print(\"Sum of numbers:\", result)\n",
    "display_info(name=\"Alice\", age=30, city=\"Wonderland\")\n"
   ]
  },
  {
   "cell_type": "code",
   "execution_count": null,
   "id": "72478550-4112-4dd5-81ad-eae25fbef16a",
   "metadata": {},
   "outputs": [],
   "source": [
    "In Python, an iterator is an object that allows you to traverse through a sequence of elements, such as a list, tuple, \n",
    "or other iterable objects, one at a time. Iterators are typically used in for loops to iterate over the elements in a collection."
   ]
  },
  {
   "cell_type": "code",
   "execution_count": 3,
   "id": "bcbf71e4-73a3-4620-8cf2-a4fba1576cda",
   "metadata": {},
   "outputs": [
    {
     "name": "stdout",
     "output_type": "stream",
     "text": [
      "2\n",
      "4\n",
      "6\n",
      "8\n",
      "10\n"
     ]
    }
   ],
   "source": [
    "my_list = [2, 4, 6, 8, 10, 12, 14, 16, 18, 20]\n",
    "\n",
    "my_iterator = iter(my_list)\n",
    "\n",
    "for _ in range(5):\n",
    "    element = next(my_iterator)\n",
    "    print(element)\n"
   ]
  },
  {
   "cell_type": "code",
   "execution_count": null,
   "id": "c957f511-bb71-4d82-b890-6121d5614ccf",
   "metadata": {},
   "outputs": [],
   "source": [
    "In Python, a generator function is a special type of function that allows you to create an iterator.\n",
    "Unlike regular functions that return a single value and terminate, a generator function can yield a\n",
    "sequence of values one at a time. The key feature of a generator function is the yield keyword, which \n",
    "is used to yield a value and temporarily suspend the function's execution."
   ]
  },
  {
   "cell_type": "code",
   "execution_count": 4,
   "id": "a0f3ae4d-fed3-486a-81f2-3f29b40337ba",
   "metadata": {},
   "outputs": [
    {
     "name": "stdout",
     "output_type": "stream",
     "text": [
      "1\n",
      "2\n",
      "3\n",
      "4\n",
      "5\n"
     ]
    }
   ],
   "source": [
    "def count_up_to(n):\n",
    "    i = 1\n",
    "    while i <= n:\n",
    "        yield i\n",
    "        i += 1\n",
    "counter = count_up_to(5)\n",
    "for num in counter:\n",
    "    print(num)\n"
   ]
  },
  {
   "cell_type": "code",
   "execution_count": 5,
   "id": "7f47d3cc-303e-47c1-a029-5df7de1a52ce",
   "metadata": {},
   "outputs": [
    {
     "name": "stdout",
     "output_type": "stream",
     "text": [
      "2\n",
      "3\n",
      "5\n",
      "7\n",
      "11\n",
      "13\n",
      "17\n",
      "19\n",
      "23\n",
      "29\n",
      "31\n",
      "37\n",
      "41\n",
      "43\n",
      "47\n",
      "53\n",
      "59\n",
      "61\n",
      "67\n",
      "71\n"
     ]
    }
   ],
   "source": [
    "def is_prime(number):\n",
    "    if number <= 1:\n",
    "        return False\n",
    "    if number <= 3:\n",
    "        return True\n",
    "    if number % 2 == 0 or number % 3 == 0:\n",
    "        return False\n",
    "    i = 5\n",
    "    while i * i <= number:\n",
    "        if number % i == 0 or number % (i + 2) == 0:\n",
    "            return False\n",
    "        i += 6\n",
    "    return True\n",
    "\n",
    "def prime_generator():\n",
    "    number = 2\n",
    "    count = 0\n",
    "    while count < 20 and number < 1000:\n",
    "        if is_prime(number):\n",
    "            yield number\n",
    "            count += 1\n",
    "        number += 1\n",
    "\n",
    "prime_gen = prime_generator()\n",
    "\n",
    "for _ in range(20):\n",
    "    prime = next(prime_gen)\n",
    "    print(prime)\n"
   ]
  },
  {
   "cell_type": "code",
   "execution_count": 6,
   "id": "8956f014-26ea-42ea-8306-5cb91bc2cb30",
   "metadata": {},
   "outputs": [
    {
     "name": "stdout",
     "output_type": "stream",
     "text": [
      "0\n",
      "1\n",
      "1\n",
      "2\n",
      "3\n",
      "5\n",
      "8\n",
      "13\n",
      "21\n",
      "34\n"
     ]
    }
   ],
   "source": [
    "fibonacci_a = 0\n",
    "fibonacci_b = 1\n",
    "\n",
    "count = 0\n",
    "while count < 10:\n",
    "   \n",
    "    print(fibonacci_a)\n",
    "    fibonacci_next = fibonacci_a + fibonacci_b\n",
    "    fibonacci_a = fibonacci_b\n",
    "    fibonacci_b = fibonacci_next\n",
    "    count += 1\n"
   ]
  },
  {
   "cell_type": "code",
   "execution_count": 7,
   "id": "7e8c187c-8624-40a6-95e6-2a64eed9f0a6",
   "metadata": {},
   "outputs": [
    {
     "name": "stdout",
     "output_type": "stream",
     "text": [
      "['p', 'w', 's', 'k', 'i', 'l', 'l', 's']\n"
     ]
    }
   ],
   "source": [
    "input_string = 'pwskills'\n",
    "\n",
    "output_list = [char for char in input_string]\n",
    "\n",
    "print(output_list)\n"
   ]
  },
  {
   "cell_type": "code",
   "execution_count": 8,
   "id": "a73935dc-3d2d-4eef-ae9b-20bb67ad360f",
   "metadata": {},
   "outputs": [
    {
     "name": "stdin",
     "output_type": "stream",
     "text": [
      "Enter a number:  1\n"
     ]
    },
    {
     "name": "stdout",
     "output_type": "stream",
     "text": [
      "The number is a palindrome.\n"
     ]
    }
   ],
   "source": [
    "number = int(input(\"Enter a number: \"))\n",
    "\n",
    "original_number = number\n",
    "\n",
    "reversed_number = 0\n",
    "\n",
    "while number > 0:\n",
    "    remainder = number % 10\n",
    "    reversed_number = reversed_number * 10 + remainder\n",
    "    number = number // 10\n",
    "\n",
    "if original_number == reversed_number:\n",
    "    print(\"The number is a palindrome.\")\n",
    "else:\n",
    "    print(\"The number is not a palindrome.\")\n"
   ]
  }
 ],
 "metadata": {
  "kernelspec": {
   "display_name": "Python 3 (ipykernel)",
   "language": "python",
   "name": "python3"
  },
  "language_info": {
   "codemirror_mode": {
    "name": "ipython",
    "version": 3
   },
   "file_extension": ".py",
   "mimetype": "text/x-python",
   "name": "python",
   "nbconvert_exporter": "python",
   "pygments_lexer": "ipython3",
   "version": "3.10.8"
  }
 },
 "nbformat": 4,
 "nbformat_minor": 5
}
