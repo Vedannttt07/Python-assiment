{
 "cells": [
  {
   "cell_type": "code",
   "execution_count": null,
   "id": "51f78180-0ecc-471d-8278-f65b420b84d3",
   "metadata": {},
   "outputs": [],
   "source": [
    "In Python, comments are used to annotate code for documentation or to make notes that are not\n",
    "executed by the Python interpreter. Python has two primary types of comments: single-line comments\n",
    "and multi-line comments.\n",
    "\n",
    "1. Multiline Comment\n",
    "@. singel Line Comment"
   ]
  },
  {
   "cell_type": "code",
   "execution_count": null,
   "id": "c28a0675-5b72-422e-8803-6e9833f9ae13",
   "metadata": {},
   "outputs": [],
   "source": [
    "In Python, a variable is a named container that stores data or values. \n",
    "These variables serve as symbolic names for data, allowing you to work with \n",
    "and manipulate values in your programs. You can think of variables as labels \n",
    "for data stored in memory.\n",
    "\n"
   ]
  },
  {
   "cell_type": "code",
   "execution_count": null,
   "id": "b16a56e9-78fd-45a3-b5f6-713f3e4b7ede",
   "metadata": {},
   "outputs": [],
   "source": [
    "In Python, you can convert one data type to another using type conversion functions or \n",
    "by simply reassigning a value to a variable of a different data type. \n",
    "Here are some common methods for converting data types in Python.\n"
   ]
  },
  {
   "cell_type": "code",
   "execution_count": 2,
   "id": "517896a1-dfda-47f8-818a-1f916d928329",
   "metadata": {},
   "outputs": [
    {
     "name": "stdout",
     "output_type": "stream",
     "text": [
      "[2, 3]\n"
     ]
    }
   ],
   "source": [
    "my_list = [1, 2, 3, 4, 5]\n",
    "sub_list = my_list[1:3]\n",
    "print(sub_list)"
   ]
  },
  {
   "cell_type": "code",
   "execution_count": 4,
   "id": "ae67c3ab-2b5a-4d62-acb2-11b4c30d9cbe",
   "metadata": {},
   "outputs": [],
   "source": [
    "age = 25"
   ]
  },
  {
   "cell_type": "code",
   "execution_count": 7,
   "id": "9d3f385d-7514-4699-a99c-aa4ae810bec6",
   "metadata": {},
   "outputs": [
    {
     "name": "stdout",
     "output_type": "stream",
     "text": [
      "Hello\n"
     ]
    }
   ],
   "source": [
    "text = \"Hello, World!\"\n",
    "substring = \"Hello\"\n",
    "print(substring)\n"
   ]
  },
  {
   "cell_type": "code",
   "execution_count": 8,
   "id": "b59a3636-6cc5-4c9e-8981-7df6c326a207",
   "metadata": {},
   "outputs": [],
   "source": [
    "is_student = True"
   ]
  },
  {
   "cell_type": "code",
   "execution_count": 3,
   "id": "3ee06d76-b428-492b-8254-21cd05cc7e1e",
   "metadata": {},
   "outputs": [],
   "source": [
    "price = 9.99"
   ]
  },
  {
   "cell_type": "code",
   "execution_count": 4,
   "id": "d87b6dd3-d583-4a1d-9fa9-988cc6439cbb",
   "metadata": {},
   "outputs": [
    {
     "name": "stdout",
     "output_type": "stream",
     "text": [
      "<class 'float'>\n"
     ]
    }
   ],
   "source": [
    "data_type = type(price)\n",
    "print(data_type)"
   ]
  },
  {
   "cell_type": "code",
   "execution_count": 6,
   "id": "1be26a57-b941-4d37-beea-48bdd081736a",
   "metadata": {},
   "outputs": [
    {
     "name": "stdout",
     "output_type": "stream",
     "text": [
      "Vedant Vinod Chinchekar\n"
     ]
    }
   ],
   "source": [
    "name = \"Vedant Vinod Chinchekar\"\n",
    "print(name)"
   ]
  },
  {
   "cell_type": "code",
   "execution_count": null,
   "id": "dbc0c2c7-121c-4e01-819a-ea5954a3e9a4",
   "metadata": {},
   "outputs": [],
   "source": [
    "n mathematics, a complex number is a number that can be expressed in the form \"a + bi,\" where \"a\" and \"b\" are real numbers, \n",
    "and \"i\" is the imaginary unit, which is defined as the square root of -1. Complex numbers extend the concept of real numbers\n",
    "by introducing this imaginary unit. The real part \"a\" represents the real component of the complex number, and the imaginary \n",
    "part \"b\" represents the imaginary component of the complex number.\n",
    "\n",
    "In Python, complex numbers are represented using the \"j\" or \"J\" suffix to denote the imaginary unit. \n",
    "You can create a complex number by specifying both its real and imaginary parts. Here's the general\n",
    "syntax for creating complex numbers in Python:\n",
    "    complex_number = real_part + imaginary_part * 1j\n"
   ]
  }
 ],
 "metadata": {
  "kernelspec": {
   "display_name": "Python 3 (ipykernel)",
   "language": "python",
   "name": "python3"
  },
  "language_info": {
   "codemirror_mode": {
    "name": "ipython",
    "version": 3
   },
   "file_extension": ".py",
   "mimetype": "text/x-python",
   "name": "python",
   "nbconvert_exporter": "python",
   "pygments_lexer": "ipython3",
   "version": "3.10.8"
  }
 },
 "nbformat": 4,
 "nbformat_minor": 5
}
